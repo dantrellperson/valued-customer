{
 "cells": [
  {
   "cell_type": "code",
   "execution_count": null,
   "id": "501bc41a-8fb8-4848-9493-21f224cf4ac7",
   "metadata": {},
   "outputs": [],
   "source": [
    "\"\"\"\n",
    "Business customers in 2023 seem to value faster service and personalization. \n",
    "\n",
    "Marketers have to fight with competitors to grab the attention of their target customers if they want to be successful.\n",
    "\n",
    "* 12 Practical Ways in which Data Science can be Used in Marketing    *\n",
    "------------------------------------------\n",
    "\n",
    "1. Optimizing Marketing Budget\n",
    "2. Matching Customers with the Right Strategies\n",
    "3. Customer Profiling\n",
    "4. Communication with Customers\n",
    "5. Social Media Marketing\n",
    "6. Email Campaigns\n",
    "7. Predictive Analytics\n",
    "8. Lead Scoring\n",
    "9. Sentiment Analysis\n",
    "10. Optimizing Channels\n",
    "11. Product Development\n",
    "12. Real-Time Insights\n",
    "\n",
    "Source: https://www.knowledgehut.com/blog/data-science/data-science-for-marketing\n",
    "\n",
    "\"\"\""
   ]
  },
  {
   "cell_type": "code",
   "execution_count": null,
   "id": "c06b635c-8e83-4a97-93a8-f670534aee01",
   "metadata": {},
   "outputs": [],
   "source": [
    "\"\"\"\n",
    "A common marketing analytics challenge you might have is determining themes in your consumer behavior.\n",
    "\n",
    "To quickly build customer segments from your data, you can use a technique called clustering. \n",
    "Clustering lets you group customers with similar behavior together to build different audiences to use in marketing. \n",
    "You can personalize your outreach to customers by tailoring ads and other communications to them, \n",
    "based on the preferences and behaviors indicated by the cluster each customer belongs to\n",
    "\n",
    "Source: https://cloud.google.com/architecture/building-k-means-clustering-model\n",
    "\"\"\""
   ]
  },
  {
   "cell_type": "code",
   "execution_count": null,
   "id": "a72c2942-7023-4b6a-a129-a9cb268f7e9f",
   "metadata": {},
   "outputs": [],
   "source": []
  },
  {
   "cell_type": "code",
   "execution_count": null,
   "id": "565b94a9-ee8c-426d-90d8-c3defd81eba4",
   "metadata": {},
   "outputs": [],
   "source": []
  }
 ],
 "metadata": {
  "kernelspec": {
   "display_name": "Python 3 (ipykernel)",
   "language": "python",
   "name": "python3"
  },
  "language_info": {
   "codemirror_mode": {
    "name": "ipython",
    "version": 3
   },
   "file_extension": ".py",
   "mimetype": "text/x-python",
   "name": "python",
   "nbconvert_exporter": "python",
   "pygments_lexer": "ipython3",
   "version": "3.9.9"
  }
 },
 "nbformat": 4,
 "nbformat_minor": 5
}
